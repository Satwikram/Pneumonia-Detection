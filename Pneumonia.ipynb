{
  "nbformat": 4,
  "nbformat_minor": 0,
  "metadata": {
    "colab": {
      "name": "Pneumonia.ipynb",
      "provenance": [],
      "collapsed_sections": [],
      "machine_shape": "hm"
    },
    "kernelspec": {
      "name": "python3",
      "display_name": "Python 3"
    },
    "accelerator": "TPU"
  },
  "cells": [
    {
      "cell_type": "markdown",
      "metadata": {
        "id": "vnSoxAUK4igH",
        "colab_type": "text"
      },
      "source": [
        "Pneumonia Detection![alt text](https://www.mayoclinic.org/-/media/kcms/gbs/patient-consumer/images/2016/05/18/13/02/ww5r032t-8col-jpg.jpg)"
      ]
    },
    {
      "cell_type": "markdown",
      "metadata": {
        "id": "2G9Vecxh5kV8",
        "colab_type": "text"
      },
      "source": [
        "**Pneumonia Detection using 6000 Chest X-Ray HD Images.**\n",
        "[link text](https://www.kaggle.com/paultimothymooney/chest-xray-pneumonia)\n",
        "\n"
      ]
    },
    {
      "cell_type": "markdown",
      "metadata": {
        "id": "hNWmcfm96fQ8",
        "colab_type": "text"
      },
      "source": [
        "**Chest X-Ray of Infected Person**![alt text](https://radiologyassistant.nl/assets/chest-x-ray-lung-disease/a51a0976c3619b_TAB-density-new.jpg)"
      ]
    },
    {
      "cell_type": "markdown",
      "metadata": {
        "id": "ZmS9Psqv7Alh",
        "colab_type": "text"
      },
      "source": [
        "**Chest X-Ray of healthy Person**![alt text](data:image/jpeg;base64,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)"
      ]
    },
    {
      "cell_type": "markdown",
      "metadata": {
        "id": "oe70gA9Y_W3a",
        "colab_type": "text"
      },
      "source": [
        "**This notebook tackles pneumonia classification using CNN and ANN.**\n",
        "Symtopms include some combination of productive or dry cough, chest pain, fever and difficulty breathing.\n"
      ]
    },
    {
      "cell_type": "code",
      "metadata": {
        "id": "h_NsKCXA6erN",
        "colab_type": "code",
        "colab": {}
      },
      "source": [
        "# Importing Libraries\n",
        "import numpy as np #Linear Algebra\n",
        "import matplotlib.pyplot as plt\n",
        "import cv2\n",
        "import os\n",
        "import pickle\n",
        "%matplotlib inline\n"
      ],
      "execution_count": null,
      "outputs": []
    },
    {
      "cell_type": "code",
      "metadata": {
        "id": "Bk-0-RAQ6A1n",
        "colab_type": "code",
        "colab": {}
      },
      "source": [
        "labels = ['PNEUMONIA', 'NORMAL']\n",
        "img_size = 300 #Setting all the images to 300 pixels\n",
        "\n"
      ],
      "execution_count": null,
      "outputs": []
    },
    {
      "cell_type": "code",
      "metadata": {
        "id": "S6jkx00Z5_RA",
        "colab_type": "code",
        "colab": {}
      },
      "source": [
        "# Defining the function to get data\n",
        "def get_data(data_dir):\n",
        "  data = []\n",
        "  for label in labels:\n",
        "    path = os.path.join(data_dir, label)\n",
        "    class_num = labels.index(label)\n",
        "    for img in os.listdir(path):\n",
        "      try:\n",
        "        img_array = cv2.imread(os.path.join(path, img), cv2.IMREAD_GRAYSCALE)\n",
        "\n",
        "        resized_array = cv2.resize(img_array, (img_size, img_size))\n",
        "        data.append([resized_array, class_num])\n",
        "\n",
        "      except Exception as e:\n",
        "        pass\n",
        "\n",
        "  return np.array(data)\n"
      ],
      "execution_count": null,
      "outputs": []
    },
    {
      "cell_type": "code",
      "metadata": {
        "id": "7VjLUVR3BL0D",
        "colab_type": "code",
        "colab": {}
      },
      "source": [
        "# Getting train data\n",
        "train = get_data('/content/drive/My Drive/chest_xray/train')"
      ],
      "execution_count": null,
      "outputs": []
    },
    {
      "cell_type": "code",
      "metadata": {
        "id": "mN96LDg8FTOf",
        "colab_type": "code",
        "colab": {}
      },
      "source": [
        "# Getting test data\n",
        "test = get_data('/content/drive/My Drive/chest_xray/test')"
      ],
      "execution_count": null,
      "outputs": []
    },
    {
      "cell_type": "code",
      "metadata": {
        "id": "O24U9VPlGk4N",
        "colab_type": "code",
        "colab": {}
      },
      "source": [
        "# Getting Validadtion Data\n",
        "val = get_data('/content/drive/My Drive/chest_xray/val')"
      ],
      "execution_count": null,
      "outputs": []
    },
    {
      "cell_type": "code",
      "metadata": {
        "id": "kumfQYxKIHEs",
        "colab_type": "code",
        "colab": {
          "base_uri": "https://localhost:8080/",
          "height": 68
        },
        "outputId": "8bcad030-4b24-419e-9aad-3a9f64d1a2fe"
      },
      "source": [
        "# Counting total numbers of images in train\n",
        "pneumonia = 0 \n",
        "normal = 0 \n",
        "\n",
        "for i, j in train:\n",
        "  if j == 0:\n",
        "    pneumonia += 1\n",
        "\n",
        "  else:\n",
        "    normal += 1\n",
        "\n",
        "print(\"Pneumonia Images:\", pneumonia)\n",
        "print(\"Normal Images:\", normal)\n",
        "print(\"Total Images:\", pneumonia + normal)\n",
        "\n",
        "\n"
      ],
      "execution_count": null,
      "outputs": [
        {
          "output_type": "stream",
          "text": [
            "Pneumonia Images: 3875\n",
            "Normal Images: 1341\n",
            "Total Images: 5216\n"
          ],
          "name": "stdout"
        }
      ]
    },
    {
      "cell_type": "code",
      "metadata": {
        "id": "q6sXlmYiTIOS",
        "colab_type": "code",
        "colab": {
          "base_uri": "https://localhost:8080/",
          "height": 68
        },
        "outputId": "84b43ae6-0d5f-4c9a-f2fe-4a276d7f13b7"
      },
      "source": [
        "# Counting total images in test\n",
        "pneumonia1 = 0 \n",
        "normal1 = 0 \n",
        "\n",
        "for i, j in test:\n",
        "  if j == 0:\n",
        "    pneumonia1 += 1\n",
        "\n",
        "  else:\n",
        "    normal1 += 1\n",
        "\n",
        "print(\"Pneumonia Images:\", pneumonia1)\n",
        "print(\"Normal Images:\", normal1)\n",
        "print(\"Total Images:\", pneumonia1 + normal1)"
      ],
      "execution_count": null,
      "outputs": [
        {
          "output_type": "stream",
          "text": [
            "Pneumonia Images: 390\n",
            "Normal Images: 234\n",
            "Total Images: 624\n"
          ],
          "name": "stdout"
        }
      ]
    },
    {
      "cell_type": "code",
      "metadata": {
        "id": "3bXJKdOIQFDU",
        "colab_type": "code",
        "colab": {}
      },
      "source": [
        "normal_pic = [] \n",
        "for i, j in train:\n",
        "    if j == 1:\n",
        "        normal_pic.append(i)\n",
        "\n"
      ],
      "execution_count": null,
      "outputs": []
    },
    {
      "cell_type": "code",
      "metadata": {
        "id": "KInCEDQ4QX9Z",
        "colab_type": "code",
        "colab": {
          "base_uri": "https://localhost:8080/",
          "height": 286
        },
        "outputId": "5a6cab95-6a1c-4b31-913c-863c246e8ebe"
      },
      "source": [
        "# Visualizing the Images\n",
        "plt.imshow(train[1][0], cmap='gray')\n",
        "print(labels[train[1][1]])"
      ],
      "execution_count": null,
      "outputs": [
        {
          "output_type": "stream",
          "text": [
            "PNEUMONIA\n"
          ],
          "name": "stdout"
        },
        {
          "output_type": "display_data",
          "data": {
            "image/png": "[encoded data removed]",
            "text/plain": [
              "<Figure size 432x288 with 1 Axes>"
            ]
          },
          "metadata": {
            "tags": [],
            "needs_background": "light"
          }
        }
      ]
    },
    {
      "cell_type": "code",
      "metadata": {
        "id": "JaisxWXrQi5a",
        "colab_type": "code",
        "colab": {
          "base_uri": "https://localhost:8080/",
          "height": 286
        },
        "outputId": "c894135b-d929-45a2-d284-d1e2778f6913"
      },
      "source": [
        "plt.imshow(normal_pic[0], cmap = 'gray')"
      ],
      "execution_count": null,
      "outputs": [
        {
          "output_type": "execute_result",
          "data": {
            "text/plain": [
              "<matplotlib.image.AxesImage at 0x7f75dfed5e80>"
            ]
          },
          "metadata": {
            "tags": []
          },
          "execution_count": 11
        },
        {
          "output_type": "display_data",
          "data": {
            "image/png": "[encoded data removed]",
            "text/plain": [
              "<Figure size 432x288 with 1 Axes>"
            ]
          },
          "metadata": {
            "tags": [],
            "needs_background": "light"
          }
        }
      ]
    },
    {
      "cell_type": "code",
      "metadata": {
        "id": "VOOjlSVsQ3nO",
        "colab_type": "code",
        "colab": {}
      },
      "source": [
        "X = []\n",
        "y = []"
      ],
      "execution_count": null,
      "outputs": []
    },
    {
      "cell_type": "code",
      "metadata": {
        "id": "hyZLqAa6SqJX",
        "colab_type": "code",
        "colab": {}
      },
      "source": [
        "# For training data\n",
        "for feature, label in train:\n",
        "  X.append(feature)\n",
        "  y.append(label)\n",
        "\n"
      ],
      "execution_count": null,
      "outputs": []
    },
    {
      "cell_type": "code",
      "metadata": {
        "id": "g__-KOIlX5p7",
        "colab_type": "code",
        "colab": {}
      },
      "source": [
        "# For test data\n",
        "for feature, label in test:\n",
        "  X.append(feature)\n",
        "  y.append(label)\n",
        "  "
      ],
      "execution_count": null,
      "outputs": []
    },
    {
      "cell_type": "code",
      "metadata": {
        "id": "lCh54k86YClA",
        "colab_type": "code",
        "colab": {
          "base_uri": "https://localhost:8080/",
          "height": 34
        },
        "outputId": "60006269-19a3-4957-962c-4bb6cf457ec1"
      },
      "source": [
        "# Lets count total Images\n",
        "len(X)"
      ],
      "execution_count": null,
      "outputs": [
        {
          "output_type": "execute_result",
          "data": {
            "text/plain": [
              "5840"
            ]
          },
          "metadata": {
            "tags": []
          },
          "execution_count": 15
        }
      ]
    },
    {
      "cell_type": "code",
      "metadata": {
        "id": "ltN8U4EXYZ5T",
        "colab_type": "code",
        "colab": {
          "base_uri": "https://localhost:8080/",
          "height": 34
        },
        "outputId": "a0aaeb18-0217-4bee-9592-868be0e69965"
      },
      "source": [
        "len(y)"
      ],
      "execution_count": null,
      "outputs": [
        {
          "output_type": "execute_result",
          "data": {
            "text/plain": [
              "5840"
            ]
          },
          "metadata": {
            "tags": []
          },
          "execution_count": 16
        }
      ]
    },
    {
      "cell_type": "code",
      "metadata": {
        "id": "atPVHjB6Yovs",
        "colab_type": "code",
        "colab": {
          "base_uri": "https://localhost:8080/",
          "height": 136
        },
        "outputId": "62706a68-fb03-49c0-d827-c443b6d02ab3"
      },
      "source": [
        "# Lets see how X looks in Matrix \n",
        "X[1]"
      ],
      "execution_count": null,
      "outputs": [
        {
          "output_type": "execute_result",
          "data": {
            "text/plain": [
              "array([[77, 75, 81, ..., 67, 66, 68],\n",
              "       [75, 74, 78, ..., 67, 66, 70],\n",
              "       [73, 73, 75, ..., 67, 66, 70],\n",
              "       ...,\n",
              "       [21, 20, 19, ..., 41, 41, 35],\n",
              "       [21, 20, 19, ..., 42, 39, 34],\n",
              "       [21, 21, 18, ..., 43, 43, 39]], dtype=uint8)"
            ]
          },
          "metadata": {
            "tags": []
          },
          "execution_count": 17
        }
      ]
    },
    {
      "cell_type": "code",
      "metadata": {
        "id": "_0Fn5r8WZEZa",
        "colab_type": "code",
        "colab": {
          "base_uri": "https://localhost:8080/",
          "height": 286
        },
        "outputId": "9ce0c352-9b93-482b-b13f-163454e4f66f"
      },
      "source": [
        "#Lets see X image\n",
        "plt.imshow(X[100], cmap = 'gray' )"
      ],
      "execution_count": null,
      "outputs": [
        {
          "output_type": "execute_result",
          "data": {
            "text/plain": [
              "<matplotlib.image.AxesImage at 0x7f75daf349e8>"
            ]
          },
          "metadata": {
            "tags": []
          },
          "execution_count": 18
        },
        {
          "output_type": "display_data",
          "data": {
            "image/png": "[encoded data removed]",
            "text/plain": [
              "<Figure size 432x288 with 1 Axes>"
            ]
          },
          "metadata": {
            "tags": [],
            "needs_background": "light"
          }
        }
      ]
    },
    {
      "cell_type": "code",
      "metadata": {
        "id": "h-zZ6uDZZga6",
        "colab_type": "code",
        "colab": {}
      },
      "source": [
        "# Rezize the data for Neural Networks\n",
        "X = np.array(X).reshape(-1, img_size, img_size, 1)\n",
        "y = np.array(y)"
      ],
      "execution_count": null,
      "outputs": []
    },
    {
      "cell_type": "code",
      "metadata": {
        "id": "2eJNTI7RYr69",
        "colab_type": "code",
        "colab": {}
      },
      "source": [
        "# Lets shuffel the data and split the data into train and test\n",
        "from sklearn.model_selection import train_test_split\n",
        "X_train, X_test, y_train, y_test = train_test_split(X, y, test_size = 0.2, random_state = 42)\n"
      ],
      "execution_count": null,
      "outputs": []
    },
    {
      "cell_type": "code",
      "metadata": {
        "id": "v_DNuW0na81m",
        "colab_type": "code",
        "colab": {
          "base_uri": "https://localhost:8080/",
          "height": 34
        },
        "outputId": "f4cd9c9c-c181-4001-9df5-2d55ad63f87d"
      },
      "source": [
        "len(X_train)"
      ],
      "execution_count": null,
      "outputs": [
        {
          "output_type": "execute_result",
          "data": {
            "text/plain": [
              "4672"
            ]
          },
          "metadata": {
            "tags": []
          },
          "execution_count": 21
        }
      ]
    },
    {
      "cell_type": "code",
      "metadata": {
        "id": "ktG4zLctbFZ-",
        "colab_type": "code",
        "colab": {
          "base_uri": "https://localhost:8080/",
          "height": 34
        },
        "outputId": "f733dfac-0dd7-4172-a667-018c41e4317b"
      },
      "source": [
        "len(X_test)"
      ],
      "execution_count": null,
      "outputs": [
        {
          "output_type": "execute_result",
          "data": {
            "text/plain": [
              "1168"
            ]
          },
          "metadata": {
            "tags": []
          },
          "execution_count": 22
        }
      ]
    },
    {
      "cell_type": "code",
      "metadata": {
        "id": "5xfInJP-bHIa",
        "colab_type": "code",
        "colab": {
          "base_uri": "https://localhost:8080/",
          "height": 34
        },
        "outputId": "a9dc5792-c320-43b6-875c-10e960c2016b"
      },
      "source": [
        "len(y_train)"
      ],
      "execution_count": null,
      "outputs": [
        {
          "output_type": "execute_result",
          "data": {
            "text/plain": [
              "4672"
            ]
          },
          "metadata": {
            "tags": []
          },
          "execution_count": 23
        }
      ]
    },
    {
      "cell_type": "code",
      "metadata": {
        "id": "JwoHFkW4bNgJ",
        "colab_type": "code",
        "colab": {
          "base_uri": "https://localhost:8080/",
          "height": 34
        },
        "outputId": "5f4019b6-0f6d-482b-f789-7a2294b3c4ea"
      },
      "source": [
        "len(y_test)"
      ],
      "execution_count": null,
      "outputs": [
        {
          "output_type": "execute_result",
          "data": {
            "text/plain": [
              "1168"
            ]
          },
          "metadata": {
            "tags": []
          },
          "execution_count": 24
        }
      ]
    },
    {
      "cell_type": "code",
      "metadata": {
        "id": "aiChC-IybO-Y",
        "colab_type": "code",
        "colab": {}
      },
      "source": [
        "# Dividing data by 255\n",
        "X_train = X_train / 255\n",
        "X_test = X_test / 255"
      ],
      "execution_count": null,
      "outputs": []
    },
    {
      "cell_type": "code",
      "metadata": {
        "id": "QcSHDs-Lbn9p",
        "colab_type": "code",
        "colab": {
          "base_uri": "https://localhost:8080/",
          "height": 34
        },
        "outputId": "a794db0d-9d32-47b0-af53-ca9673b00f3a"
      },
      "source": [
        "# Lets see the image size of reshaping\n",
        "X_train[0].shape"
      ],
      "execution_count": null,
      "outputs": [
        {
          "output_type": "execute_result",
          "data": {
            "text/plain": [
              "(300, 300, 1)"
            ]
          },
          "metadata": {
            "tags": []
          },
          "execution_count": 94
        }
      ]
    },
    {
      "cell_type": "code",
      "metadata": {
        "id": "yq6hQfP6bq7J",
        "colab_type": "code",
        "colab": {}
      },
      "source": [
        "# Importing Tensorflow Libraries\n",
        "import tensorflow as tf\n",
        "from tensorflow import keras\n",
        "from tensorflow.keras.models import Sequential\n",
        "from tensorflow.keras.layers import Dense, Dropout\n",
        "from tensorflow.keras.layers import Conv2D\n",
        "from tensorflow.keras.layers import MaxPooling2D\n",
        "from tensorflow.keras.layers import Flatten\n",
        "from tensorflow.keras.optimizers import Adam"
      ],
      "execution_count": null,
      "outputs": []
    },
    {
      "cell_type": "code",
      "metadata": {
        "id": "Awr1f-aXcjJ8",
        "colab_type": "code",
        "colab": {
          "base_uri": "https://localhost:8080/",
          "height": 34
        },
        "outputId": "776ba4fb-99ce-4ed6-b615-4531fc8c62a7"
      },
      "source": [
        "# Tensorflow Version\n",
        "tf.__version__"
      ],
      "execution_count": null,
      "outputs": [
        {
          "output_type": "execute_result",
          "data": {
            "text/plain": [
              "'2.2.0-rc2'"
            ]
          },
          "metadata": {
            "tags": []
          },
          "execution_count": 28
        }
      ]
    },
    {
      "cell_type": "code",
      "metadata": {
        "id": "A05yY4WkclLz",
        "colab_type": "code",
        "colab": {}
      },
      "source": [
        "# Defining the callback funtion\n",
        "class mycallback(tf.keras.callbacks.Callback):\n",
        "  def on_epoch_end(self, epoch, logs ={}):\n",
        "    if (logs.get('acc') >  0.99):\n",
        "      print(\"\\n Model Reached 99.9% accuracy so stopped Training!\")\n",
        "      slef.model.stop_training = True\n"
      ],
      "execution_count": null,
      "outputs": []
    },
    {
      "cell_type": "code",
      "metadata": {
        "id": "Ctjn1z2knIzq",
        "colab_type": "code",
        "colab": {}
      },
      "source": [
        "# Building the model\n",
        "model = Sequential([\n",
        "                    \n",
        "      #Adding convolution layer\n",
        "      tf.keras.layers.Conv2D(256, (3,3), input_shape = X_train[0].shape, strides = (1,1), padding = 'same', activation = 'relu'),\n",
        "\n",
        "      #Adding Maxpooling Layer\n",
        "      tf.keras.layers.MaxPooling2D(pool_size = (2,2), padding = 'same'),\n",
        "\n",
        "      # Adding second convolution layer\n",
        "      tf.keras.layers.Conv2D(128, (3,3), strides = (1,1), padding = 'same', activation = 'relu'),\n",
        "      tf.keras.layers.MaxPooling2D(pool_size = (2,2), padding = 'same'),\n",
        "\n",
        "      # Adding third convolution Layer\n",
        "      tf.keras.layers.Conv2D(64, (3,3), strides = (1,1), padding = 'same', activation = 'relu'),\n",
        "      tf.keras.layers.MaxPooling2D(pool_size = (2,2), padding = 'same'),\n",
        "\n",
        "      # Flattening the images\n",
        "      tf.keras.layers.Flatten(),\n",
        "\n",
        "      # Dropouting\n",
        "      tf.keras.layers.Dropout(0.2),\n",
        "\n",
        "      # Adding Dense Layer\n",
        "      tf.keras.layers.Dense(units = 512, activation = 'relu'),\n",
        "\n",
        "      # Adding output layer\n",
        "      tf.keras.layers.Dense(1, activation = 'sigmoid')\n",
        "])"
      ],
      "execution_count": null,
      "outputs": []
    },
    {
      "cell_type": "code",
      "metadata": {
        "id": "XRfJ772ir5XO",
        "colab_type": "code",
        "colab": {}
      },
      "source": [
        "adam = Adam(lr = 0.0001) # One of the hyper parameter Tuning\n"
      ],
      "execution_count": null,
      "outputs": []
    },
    {
      "cell_type": "code",
      "metadata": {
        "id": "yUzT_Mcist0b",
        "colab_type": "code",
        "colab": {}
      },
      "source": [
        "# Comiling the model\n",
        "model.compile(optimizer = adam, loss = 'binary_crossentropy', metrics = ['accuracy'])"
      ],
      "execution_count": null,
      "outputs": []
    },
    {
      "cell_type": "code",
      "metadata": {
        "id": "6RykEKmntDJH",
        "colab_type": "code",
        "colab": {
          "base_uri": "https://localhost:8080/",
          "height": 493
        },
        "outputId": "784bc7bf-239c-447a-e1a9-341658c600f5"
      },
      "source": [
        "model.summary()"
      ],
      "execution_count": null,
      "outputs": [
        {
          "output_type": "stream",
          "text": [
            "Model: \"sequential\"\n",
            "_________________________________________________________________\n",
            "Layer (type)                 Output Shape              Param #   \n",
            "=================================================================\n",
            "conv2d (Conv2D)              (None, 300, 300, 256)     2560      \n",
            "_________________________________________________________________\n",
            "max_pooling2d (MaxPooling2D) (None, 150, 150, 256)     0         \n",
            "_________________________________________________________________\n",
            "conv2d_1 (Conv2D)            (None, 150, 150, 128)     295040    \n",
            "_________________________________________________________________\n",
            "max_pooling2d_1 (MaxPooling2 (None, 75, 75, 128)       0         \n",
            "_________________________________________________________________\n",
            "conv2d_2 (Conv2D)            (None, 75, 75, 64)        73792     \n",
            "_________________________________________________________________\n",
            "max_pooling2d_2 (MaxPooling2 (None, 38, 38, 64)        0         \n",
            "_________________________________________________________________\n",
            "flatten (Flatten)            (None, 92416)             0         \n",
            "_________________________________________________________________\n",
            "dropout (Dropout)            (None, 92416)             0         \n",
            "_________________________________________________________________\n",
            "dense (Dense)                (None, 512)               47317504  \n",
            "_________________________________________________________________\n",
            "dense_1 (Dense)              (None, 1)                 513       \n",
            "=================================================================\n",
            "Total params: 47,689,409\n",
            "Trainable params: 47,689,409\n",
            "Non-trainable params: 0\n",
            "_________________________________________________________________\n"
          ],
          "name": "stdout"
        }
      ]
    },
    {
      "cell_type": "code",
      "metadata": {
        "id": "jDzxQGzmtFkt",
        "colab_type": "code",
        "colab": {
          "base_uri": "https://localhost:8080/",
          "height": 547
        },
        "outputId": "8746e6dc-d036-4e91-b3c8-6157d13e0971"
      },
      "source": [
        "# Fitting the model\n",
        "#callback = mycallback()\n",
        "history = model.fit(X_train, y_train, batch_size = 32, epochs = 15,validation_split = 0.25)"
      ],
      "execution_count": null,
      "outputs": [
        {
          "output_type": "stream",
          "text": [
            "Epoch 1/15\n",
            "110/110 [==============================] - 440s 4s/step - loss: 0.3023 - accuracy: 0.8650 - val_loss: 0.2114 - val_accuracy: 0.9170\n",
            "Epoch 2/15\n",
            "110/110 [==============================] - 442s 4s/step - loss: 0.1661 - accuracy: 0.9446 - val_loss: 0.1964 - val_accuracy: 0.9272\n",
            "Epoch 3/15\n",
            "110/110 [==============================] - 442s 4s/step - loss: 0.1311 - accuracy: 0.9538 - val_loss: 0.2007 - val_accuracy: 0.9298\n",
            "Epoch 4/15\n",
            "110/110 [==============================] - 442s 4s/step - loss: 0.1387 - accuracy: 0.9463 - val_loss: 0.1621 - val_accuracy: 0.9435\n",
            "Epoch 5/15\n",
            "110/110 [==============================] - 446s 4s/step - loss: 0.1142 - accuracy: 0.9575 - val_loss: 0.1821 - val_accuracy: 0.9332\n",
            "Epoch 6/15\n",
            "110/110 [==============================] - 439s 4s/step - loss: 0.0983 - accuracy: 0.9663 - val_loss: 0.1689 - val_accuracy: 0.9341\n",
            "Epoch 7/15\n",
            "110/110 [==============================] - 438s 4s/step - loss: 0.0842 - accuracy: 0.9697 - val_loss: 0.1719 - val_accuracy: 0.9401\n",
            "Epoch 8/15\n",
            "110/110 [==============================] - 437s 4s/step - loss: 0.0850 - accuracy: 0.9669 - val_loss: 0.1890 - val_accuracy: 0.9281\n",
            "Epoch 9/15\n",
            "110/110 [==============================] - 439s 4s/step - loss: 0.0771 - accuracy: 0.9726 - val_loss: 0.1645 - val_accuracy: 0.9486\n",
            "Epoch 10/15\n",
            "110/110 [==============================] - 438s 4s/step - loss: 0.0595 - accuracy: 0.9803 - val_loss: 0.1989 - val_accuracy: 0.9384\n",
            "Epoch 11/15\n",
            "110/110 [==============================] - 439s 4s/step - loss: 0.0625 - accuracy: 0.9777 - val_loss: 0.1634 - val_accuracy: 0.9452\n",
            "Epoch 12/15\n",
            "110/110 [==============================] - 437s 4s/step - loss: 0.0715 - accuracy: 0.9723 - val_loss: 0.1637 - val_accuracy: 0.9563\n",
            "Epoch 13/15\n",
            "110/110 [==============================] - 438s 4s/step - loss: 0.0387 - accuracy: 0.9849 - val_loss: 0.1820 - val_accuracy: 0.9486\n",
            "Epoch 14/15\n",
            "110/110 [==============================] - 438s 4s/step - loss: 0.0320 - accuracy: 0.9892 - val_loss: 0.1945 - val_accuracy: 0.9503\n",
            "Epoch 15/15\n",
            "110/110 [==============================] - 443s 4s/step - loss: 0.0245 - accuracy: 0.9923 - val_loss: 0.2181 - val_accuracy: 0.9366\n"
          ],
          "name": "stdout"
        }
      ]
    },
    {
      "cell_type": "code",
      "metadata": {
        "id": "fuIxqF9Aur_k",
        "colab_type": "code",
        "colab": {}
      },
      "source": [
        "# Reached almost 100% Accuracy\n",
        "# Lets Save the model \n",
        "model.save('pneumonia.h5')"
      ],
      "execution_count": null,
      "outputs": []
    },
    {
      "cell_type": "code",
      "metadata": {
        "id": "UTd5SKAhgkBG",
        "colab_type": "code",
        "colab": {}
      },
      "source": [
        "# Loading the model\n",
        "from tensorflow.keras.models import load_model"
      ],
      "execution_count": null,
      "outputs": []
    },
    {
      "cell_type": "code",
      "metadata": {
        "id": "Ji77TKEwhd2J",
        "colab_type": "code",
        "colab": {
          "base_uri": "https://localhost:8080/",
          "height": 54
        },
        "outputId": "144b44d2-9b2e-4a82-89ae-3d003b4fd347"
      },
      "source": [
        "loaded_model = load_model('pneumonia.h5')"
      ],
      "execution_count": null,
      "outputs": [
        {
          "output_type": "stream",
          "text": [
            "WARNING:tensorflow:Error in loading the saved optimizer state. As a result, your model is starting with a freshly initialized optimizer.\n"
          ],
          "name": "stdout"
        }
      ]
    },
    {
      "cell_type": "code",
      "metadata": {
        "id": "FCugLDHnhrYW",
        "colab_type": "code",
        "colab": {
          "base_uri": "https://localhost:8080/",
          "height": 493
        },
        "outputId": "9c1cdf0a-2a88-4d9d-87c7-91153afb2188"
      },
      "source": [
        "loaded_model.summary()"
      ],
      "execution_count": null,
      "outputs": [
        {
          "output_type": "stream",
          "text": [
            "Model: \"sequential\"\n",
            "_________________________________________________________________\n",
            "Layer (type)                 Output Shape              Param #   \n",
            "=================================================================\n",
            "conv2d (Conv2D)              (None, 300, 300, 256)     2560      \n",
            "_________________________________________________________________\n",
            "max_pooling2d (MaxPooling2D) (None, 150, 150, 256)     0         \n",
            "_________________________________________________________________\n",
            "conv2d_1 (Conv2D)            (None, 150, 150, 128)     295040    \n",
            "_________________________________________________________________\n",
            "max_pooling2d_1 (MaxPooling2 (None, 75, 75, 128)       0         \n",
            "_________________________________________________________________\n",
            "conv2d_2 (Conv2D)            (None, 75, 75, 64)        73792     \n",
            "_________________________________________________________________\n",
            "max_pooling2d_2 (MaxPooling2 (None, 38, 38, 64)        0         \n",
            "_________________________________________________________________\n",
            "flatten (Flatten)            (None, 92416)             0         \n",
            "_________________________________________________________________\n",
            "dropout (Dropout)            (None, 92416)             0         \n",
            "_________________________________________________________________\n",
            "dense (Dense)                (None, 512)               47317504  \n",
            "_________________________________________________________________\n",
            "dense_1 (Dense)              (None, 1)                 513       \n",
            "=================================================================\n",
            "Total params: 47,689,409\n",
            "Trainable params: 47,689,409\n",
            "Non-trainable params: 0\n",
            "_________________________________________________________________\n"
          ],
          "name": "stdout"
        }
      ]
    },
    {
      "cell_type": "code",
      "metadata": {
        "id": "of17JuZDhx3m",
        "colab_type": "code",
        "colab": {
          "base_uri": "https://localhost:8080/",
          "height": 51
        },
        "outputId": "72cc86e3-e914-46d8-96fc-ca0f521d6b79"
      },
      "source": [
        "loaded_model.evaluate(X_test, y_test)"
      ],
      "execution_count": null,
      "outputs": [
        {
          "output_type": "stream",
          "text": [
            "37/37 [==============================] - 24s 646ms/step - loss: 0.1675 - accuracy: 0.9461\n"
          ],
          "name": "stdout"
        },
        {
          "output_type": "execute_result",
          "data": {
            "text/plain": [
              "[0.16754050552845, 0.9460616707801819]"
            ]
          },
          "metadata": {
            "tags": []
          },
          "execution_count": 39
        }
      ]
    },
    {
      "cell_type": "code",
      "metadata": {
        "id": "X8ylKWjdl_kt",
        "colab_type": "code",
        "colab": {}
      },
      "source": [
        "# Predict the model\n",
        "pred = model.predict(X_train)\n"
      ],
      "execution_count": null,
      "outputs": []
    },
    {
      "cell_type": "code",
      "metadata": {
        "id": "8V8uLPXmmjUL",
        "colab_type": "code",
        "colab": {}
      },
      "source": [
        "# Calculating thresolds usings Precision_recall_curve\n",
        "from sklearn.metrics import precision_recall_curve\n",
        "precisions, recalls, thresholds = precision_recall_curve(y_train, pred)\n"
      ],
      "execution_count": null,
      "outputs": []
    },
    {
      "cell_type": "code",
      "metadata": {
        "id": "3nDYhILApOWf",
        "colab_type": "code",
        "colab": {
          "base_uri": "https://localhost:8080/",
          "height": 51
        },
        "outputId": "55ba8611-16de-42de-dc53-7d9d6a92d0dd"
      },
      "source": [
        "precisions"
      ],
      "execution_count": null,
      "outputs": [
        {
          "output_type": "execute_result",
          "data": {
            "text/plain": [
              "array([0.3971875 , 0.39699906, 0.3971232 , ..., 1.        , 1.        ,\n",
              "       1.        ])"
            ]
          },
          "metadata": {
            "tags": []
          },
          "execution_count": 52
        }
      ]
    },
    {
      "cell_type": "code",
      "metadata": {
        "id": "Vh5PpR6mpUlt",
        "colab_type": "code",
        "colab": {
          "base_uri": "https://localhost:8080/",
          "height": 51
        },
        "outputId": "e4018070-86f4-43e8-8f59-3f595107dc32"
      },
      "source": [
        "recalls"
      ],
      "execution_count": null,
      "outputs": [
        {
          "output_type": "execute_result",
          "data": {
            "text/plain": [
              "array([1.00000000e+00, 9.99213218e-01, 9.99213218e-01, ...,\n",
              "       1.57356412e-03, 7.86782061e-04, 0.00000000e+00])"
            ]
          },
          "metadata": {
            "tags": []
          },
          "execution_count": 53
        }
      ]
    },
    {
      "cell_type": "code",
      "metadata": {
        "id": "tJbtdlTvpcUS",
        "colab_type": "code",
        "colab": {
          "base_uri": "https://localhost:8080/",
          "height": 51
        },
        "outputId": "2ba61743-ccb6-4fa1-8835-7cb5eff44a97"
      },
      "source": [
        "thresholds"
      ],
      "execution_count": null,
      "outputs": [
        {
          "output_type": "execute_result",
          "data": {
            "text/plain": [
              "array([8.6295200e-05, 8.6817556e-05, 8.6948392e-05, ..., 9.9999452e-01,\n",
              "       9.9999511e-01, 9.9999881e-01], dtype=float32)"
            ]
          },
          "metadata": {
            "tags": []
          },
          "execution_count": 51
        }
      ]
    },
    {
      "cell_type": "code",
      "metadata": {
        "id": "vXD0uHh0pklL",
        "colab_type": "code",
        "colab": {}
      },
      "source": [
        "# ROC Curve\n",
        "from sklearn.metrics import roc_curve\n",
        "fpr, tpr, thresholds2 = roc_curve(y_train, pred)"
      ],
      "execution_count": null,
      "outputs": []
    },
    {
      "cell_type": "code",
      "metadata": {
        "id": "c2QbKvxmqPlh",
        "colab_type": "code",
        "colab": {
          "base_uri": "https://localhost:8080/",
          "height": 573
        },
        "outputId": "a73b79d8-9f6e-4fc5-e6a8-097a4bf397d4"
      },
      "source": [
        "# Plotting the Graph\n",
        "precisions, recalls, thresholds = precision_recall_curve(y_train, pred)\n",
        "fpr, tpr, thresholds2 = roc_curve(y_train, pred)\n",
        "def plot_precision_recall(precisions, recalls, thresholds):\n",
        "    plt.plot(thresholds, precisions[:-1], 'b--')\n",
        "    plt.plot(thresholds, recalls[:-1], 'g-')\n",
        "    plt.title('Precision vs. Recall')\n",
        "    plt.xlabel('Thresholds')\n",
        "    plt.legend(['Precision', 'Recall'], loc='best')\n",
        "    plt.show()\n",
        "\n",
        "def plot_roc(fpr, tpr):\n",
        "    plt.plot(fpr, tpr)\n",
        "    plt.plot([0, 1], [0, 1], 'k--')\n",
        "    plt.title('FPR (False Positive rate) vs TPR (True Positive Rate)')\n",
        "    plt.xlabel('False Positive Rate')\n",
        "    plt.ylabel('True Positive Rate (Recall)')\n",
        "    plt.show()\n",
        "    \n",
        "plot_precision_recall(precisions, recalls, thresholds)\n",
        "plot_roc(fpr, tpr)"
      ],
      "execution_count": null,
      "outputs": [
        {
          "output_type": "display_data",
          "data": {
            "image/png": "[encoded data removed]",
            "text/plain": [
              "<Figure size 432x288 with 1 Axes>"
            ]
          },
          "metadata": {
            "tags": [],
            "needs_background": "light"
          }
        },
        {
          "output_type": "display_data",
          "data": {
            "image/png": "[encoded data removed]",
            "text/plain": [
              "<Figure size 432x288 with 1 Axes>"
            ]
          },
          "metadata": {
            "tags": [],
            "needs_background": "light"
          }
        }
      ]
    },
    {
      "cell_type": "code",
      "metadata": {
        "id": "OSWudyBKqiwt",
        "colab_type": "code",
        "colab": {
          "base_uri": "https://localhost:8080/",
          "height": 34
        },
        "outputId": "d73ee2fd-0c68-4c58-921b-49421bebadda"
      },
      "source": [
        "y_pred = model.predict(X_test)\n",
        "y_pred[0]"
      ],
      "execution_count": null,
      "outputs": [
        {
          "output_type": "execute_result",
          "data": {
            "text/plain": [
              "array([0.9997791], dtype=float32)"
            ]
          },
          "metadata": {
            "tags": []
          },
          "execution_count": 90
        }
      ]
    },
    {
      "cell_type": "code",
      "metadata": {
        "id": "y1bGRY4jiRWq",
        "colab_type": "code",
        "colab": {}
      },
      "source": [
        "binary_predictions = []\n",
        "threshold = thresholds[np.argmax(precisions >= 0.90)]\n",
        "for i in y_pred:\n",
        "    if i >= threshold:\n",
        "        binary_predictions.append(1)\n",
        "    else:\n",
        "        binary_predictions.append(0) "
      ],
      "execution_count": null,
      "outputs": []
    },
    {
      "cell_type": "code",
      "metadata": {
        "id": "cx-rl8ugiY3w",
        "colab_type": "code",
        "colab": {}
      },
      "source": [
        "# Checking the Accuracy\n",
        "from sklearn.metrics import accuracy_score\n",
        "score = accuracy_score(binary_predictions, y_test)"
      ],
      "execution_count": null,
      "outputs": []
    },
    {
      "cell_type": "code",
      "metadata": {
        "id": "YU8CWNicrMx3",
        "colab_type": "code",
        "colab": {
          "base_uri": "https://localhost:8080/",
          "height": 34
        },
        "outputId": "a8c64bfa-72a4-4af6-a145-e441cf270c9e"
      },
      "source": [
        "score*100"
      ],
      "execution_count": null,
      "outputs": [
        {
          "output_type": "execute_result",
          "data": {
            "text/plain": [
              "93.4931506849315"
            ]
          },
          "metadata": {
            "tags": []
          },
          "execution_count": 60
        }
      ]
    }
  ]
}